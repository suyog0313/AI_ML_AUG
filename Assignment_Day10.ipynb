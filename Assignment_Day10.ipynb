{
 "cells": [
  {
   "cell_type": "code",
   "execution_count": 11,
   "metadata": {},
   "outputs": [
    {
     "name": "stdout",
     "output_type": "stream",
     "text": [
      "Is A greater than B :  [False False  True]\n",
      "Is A greater_equal than B :  [False  True  True]\n",
      "Is A Less than B :  [ True False False]\n",
      "Is A Less_equal than B :  [ True  True False]\n"
     ]
    }
   ],
   "source": [
    "#Create an element-wise comparison (greater, greater_equal, less and less_equal) of two given arrays\n",
    "\n",
    "import numpy as v\n",
    "\n",
    "A = v.array([4,2,7]) \n",
    "B = v.array([6,2,5]) \n",
    "\n",
    "print(\"Is A greater than B : \", v.greater(A,B)) \n",
    "print(\"Is A greater_equal than B : \", v.greater_equal(A,B)) \n",
    "print(\"Is A Less than B : \", v.less(A,B)) \n",
    "print(\"Is A Less_equal than B : \", v.less_equal(A,B)) \n",
    "\n",
    "\n",
    "\n",
    "\n"
   ]
  },
  {
   "cell_type": "code",
   "execution_count": 12,
   "metadata": {},
   "outputs": [
    {
     "name": "stdout",
     "output_type": "stream",
     "text": [
      "The array of 10 Zeros\n",
      "[0. 0. 0. 0. 0. 0. 0. 0. 0. 0.]\n",
      "The array of 10 Ones\n",
      "[1. 1. 1. 1. 1. 1. 1. 1. 1. 1.]\n",
      "The Array of the 10 Fives\n",
      "[5. 5. 5. 5. 5. 5. 5. 5. 5. 5.]\n"
     ]
    }
   ],
   "source": [
    "#Write a NumPy program to create an array of 10 zeros,10 ones, 10 fives\n",
    "\n",
    "import numpy as np\n",
    "\n",
    "array=np.zeros(10)\n",
    "print(\"The array of 10 Zeros\")\n",
    "print(array)\n",
    "array=np.ones(10)\n",
    "print(\"The array of 10 Ones\")\n",
    "print(array)\n",
    "array=np.ones(10)*5\n",
    "print(\"The Array of the 10 Fives\")\n",
    "print(array)"
   ]
  },
  {
   "cell_type": "code",
   "execution_count": 14,
   "metadata": {},
   "outputs": [
    {
     "name": "stdout",
     "output_type": "stream",
     "text": [
      "The Given Array:\n",
      "[[7 3]\n",
      " [4 3]]\n",
      "Sum of all elements of Array:\n",
      "17\n",
      "Sum of each column in Array:\n",
      "[11  6]\n",
      "Sum of each row in Array:\n",
      "[10  7]\n"
     ]
    }
   ],
   "source": [
    "#Write a NumPy program to compute sum of all elements, sum of each column and sum of each row of a\n",
    "#given array\n",
    "\n",
    "import numpy as np\n",
    "\n",
    "A = np.array([[7,3],[4,3]])\n",
    "print(\"The Given Array:\")\n",
    "print(A)\n",
    "\n",
    "print(\"Sum of all elements of Array:\")\n",
    "print(np.sum(A))\n",
    "\n",
    "print(\"Sum of each column in Array:\")\n",
    "print(np.sum(A, axis=0))\n",
    "print(\"Sum of each row in Array:\")\n",
    "print(np.sum(A, axis=1))"
   ]
  },
  {
   "cell_type": "code",
   "execution_count": 36,
   "metadata": {},
   "outputs": [
    {
     "name": "stdout",
     "output_type": "stream",
     "text": [
      "First array is:\n",
      "[[0. 1. 2.]\n",
      " [3. 4. 5.]\n",
      " [6. 7. 8.]]\n",
      "\n",
      "\n",
      "Second array is:\n",
      "[10 10 10]\n",
      "\n",
      "\n",
      "Addition of the two arrays:\n",
      "[[10. 11. 12.]\n",
      " [13. 14. 15.]\n",
      " [16. 17. 18.]]\n",
      "\n",
      "\n",
      "Subtraction the two arrays:\n",
      "[[-10.  -9.  -8.]\n",
      " [ -7.  -6.  -5.]\n",
      " [ -4.  -3.  -2.]]\n",
      "\n",
      "\n",
      "Multiplication the two arrays: \n",
      "[[ 0. 10. 20.]\n",
      " [30. 40. 50.]\n",
      " [60. 70. 80.]]\n",
      "\n",
      "\n",
      "Division the two arrays: \n",
      "[[0.  0.1 0.2]\n",
      " [0.3 0.4 0.5]\n",
      " [0.6 0.7 0.8]]\n"
     ]
    }
   ],
   "source": [
    "#Write a NumPy program to add, subtract, multiply, divide arguments element-wise.\n",
    "\n",
    "import numpy as np \n",
    "a = np.arange(9, dtype = np.float_).reshape(3,3) \n",
    "\n",
    "print (\"First array is:\") \n",
    "print (a) \n",
    "print (\"\\n\") \n",
    "\n",
    "print (\"Second array is:\") \n",
    "b = np.array([10,10,10]) \n",
    "print (b) \n",
    "print (\"\\n\")   \n",
    "\n",
    "print(\"Addition of the two arrays:\") \n",
    "print (np.add(a,b))\n",
    "print (\"\\n\")  \n",
    "\n",
    "print (\"Subtraction the two arrays:\")\n",
    "print (np.subtract(a,b)) \n",
    "print (\"\\n\")   \n",
    "\n",
    "print (\"Multiplication the two arrays: \") \n",
    "print (np.multiply(a,b))\n",
    "print (\"\\n\")  \n",
    "\n",
    "print (\"Division the two arrays: \")\n",
    "print (np.divide(a,b))"
   ]
  },
  {
   "cell_type": "code",
   "execution_count": 23,
   "metadata": {},
   "outputs": [
    {
     "name": "stdout",
     "output_type": "stream",
     "text": [
      "Sine Array of  angles:\n",
      "[0.         0.5        0.70710678 0.8660254  1.        ]\n",
      "\n",
      "\n",
      "Cosine values for angles in array:\n",
      "[1.00000000e+00 8.66025404e-01 7.07106781e-01 5.00000000e-01\n",
      " 6.12323400e-17]\n",
      "\n",
      "\n",
      "Tangent values for given angles:\n",
      "[0.00000000e+00 5.77350269e-01 1.00000000e+00 1.73205081e+00\n",
      " 1.63312394e+16]\n"
     ]
    }
   ],
   "source": [
    "#Write a NumPy program to compute the trigonometric sine, cosine and tangent array of angles given in\n",
    "#degree.\n",
    "\n",
    "import numpy as np \n",
    "s = np.array([0,30,45,60,90]) \n",
    "\n",
    "print (\"Sine Array of  angles:\")\n",
    "\n",
    "print (np.sin(s*np.pi/180)) \n",
    "print (\"\\n\")  \n",
    "\n",
    "print (\"Cosine values for angles in array:\")\n",
    "print (np.cos(s*np.pi/180)) \n",
    "print (\"\\n\")  \n",
    "\n",
    "print (\"Tangent values for given angles:\") \n",
    "print (np.tan(s*np.pi/180)) "
   ]
  },
  {
   "cell_type": "code",
   "execution_count": 25,
   "metadata": {},
   "outputs": [
    {
     "name": "stdout",
     "output_type": "stream",
     "text": [
      "      Name  Marks  Attempts Qualify\n",
      "a   Vishal   90.0         1     yes\n",
      "b    Pooja   75.0         3     yes\n",
      "c    Samir   45.0         2     yes\n",
      "d    James    NaN         3      no\n",
      "e    Vikas   40.0         2      no\n",
      "f  Michael   20.0         3     yes\n",
      "g   Sandip   70.0         1     yes\n",
      "h  Bhushan    NaN         1      no\n",
      "i    Kevin   80.0         2      no\n",
      "j    Jonas   20.0         1     yes\n"
     ]
    }
   ],
   "source": [
    "#Write a Pandas program to create and display a DataFrame from a specified dictionary data which has the\n",
    "#index labels\n",
    "\n",
    "import pandas as pd\n",
    "import numpy as np\n",
    "\n",
    "exam_data  = {'Name': ['Vishal', 'Pooja', 'Samir', 'James', 'Vikas', 'Michael', 'Sandip', 'Bhushan', 'Kevin', 'Jonas'],\n",
    "        'Marks': [90, 75, 45, np.nan, 40, 20, 70, np.nan, 80, 20],\n",
    "        'Attempts': [1, 3, 2, 3, 2, 3, 1, 1, 2, 1],\n",
    "        'Qualify': ['yes', 'yes', 'yes', 'no', 'no', 'yes', 'yes', 'no', 'no', 'yes']}\n",
    "labels = ['a', 'b', 'c', 'd', 'e', 'f', 'g', 'h', 'i', 'j']\n",
    "\n",
    "df = pd.DataFrame(exam_data , index=labels)\n",
    "print(df)"
   ]
  },
  {
   "cell_type": "code",
   "execution_count": 35,
   "metadata": {},
   "outputs": [
    {
     "name": "stdout",
     "output_type": "stream",
     "text": [
      "Select specific columns:\n",
      "      name  score\n",
      "a      Ana   12.5\n",
      "b     Dima    9.0\n",
      "c    Kathe   16.5\n",
      "d    James    NaN\n",
      "e     mily    9.0\n",
      "f  Michael   20.0\n",
      "g  Matthew   14.5\n",
      "h    Laura    NaN\n",
      "i    Kevin    8.0\n",
      "j    Jonas   19.0\n"
     ]
    }
   ],
   "source": [
    "#Write a Pandas program to select the 'name' and 'score' columns from the following DataFrame\n",
    "\n",
    "import pandas as pd\n",
    "import numpy as np\n",
    "\n",
    "exam_data  = {'name': ['Ana', 'Dima', 'Kathe', 'James', 'mily', 'Michael', 'Matthew', 'Laura', 'Kevin', 'Jonas'],\n",
    "        'score': [12.5, 9, 16.5, np.nan, 9, 20, 14.5, np.nan, 8, 19],\n",
    "        'attempts': [1, 3, 2, 3, 2, 3, 1, 1, 2, 1],\n",
    "        'qualify': ['yes', 'no', 'yes', 'no', 'no', 'yes', 'yes', 'no', 'no', 'yes']}\n",
    "labels = ['a', 'b', 'c', 'd', 'e', 'f', 'g', 'h', 'i', 'j']\n",
    "\n",
    "df = pd.DataFrame(exam_data , index=labels)\n",
    "print(\"Select specific columns:\")\n",
    "print(df[['name', 'score']])"
   ]
  },
  {
   "cell_type": "code",
   "execution_count": 27,
   "metadata": {},
   "outputs": [
    {
     "name": "stdout",
     "output_type": "stream",
     "text": [
      "Original DataFrames:\n",
      "  student_id    name  marks\n",
      "0         S1  Vishal    200\n",
      "1         S2   Pooja    210\n",
      "2         S3   Viren    190\n",
      "-------------------------------------\n",
      "  student_id    name  marks\n",
      "0         S1   Patil    201\n",
      "1         S2   Suyog    200\n",
      "2         S6  Ajmera    198\n",
      "\n",
      "Join the said two dataframes along rows:\n",
      "  student_id    name  marks\n",
      "0         S1  Vishal    200\n",
      "1         S2   Pooja    210\n",
      "2         S3   Viren    190\n",
      "0         S1   Patil    201\n",
      "1         S2   Suyog    200\n",
      "2         S6  Ajmera    198\n"
     ]
    }
   ],
   "source": [
    "#Write a Pandas program to join the two given dataframes along rows and assign all data.\n",
    "\n",
    "import pandas as pd\n",
    "\n",
    "\n",
    "data1 = pd.DataFrame({\n",
    "        'student_id': ['S1', 'S2', 'S3'],\n",
    "         'name': ['Vishal', 'Pooja', 'Viren'], \n",
    "        'marks': [200, 210, 190]})\n",
    "\n",
    "data2 = pd.DataFrame({\n",
    "        'student_id': ['S1', 'S2', 'S6'],\n",
    "        'name': ['Patil', 'Suyog', 'Ajmera'], \n",
    "        'marks': [201, 200, 198]})\n",
    "\n",
    "print(\"Original DataFrames:\")\n",
    "print(data1)\n",
    "print(\"-------------------------------------\")\n",
    "print(data2)\n",
    "print(\"\\nJoin the said two dataframes along rows:\")\n",
    "result_data = pd.concat([data1,data2])\n",
    "print(result_data)\n"
   ]
  },
  {
   "cell_type": "code",
   "execution_count": 32,
   "metadata": {},
   "outputs": [
    {
     "name": "stdout",
     "output_type": "stream",
     "text": [
      "Original Orders DataFrame:\n",
      "    Order_no  Purchase_amt  Order_date  Customer_id  Salesman_id\n",
      "0    70001.0        150.50  2012-10-05         3002       5002.0\n",
      "1        NaN        270.65  2012-09-10         3001       5003.0\n",
      "2    70002.0         65.26         NaN         3001       5001.0\n",
      "3    70004.0        110.50  2012-08-17         3003          NaN\n",
      "4        NaN        948.50  2012-09-10         3002       5002.0\n",
      "5    70005.0       2400.60  2012-07-27         3001       5001.0\n",
      "6        NaN       5760.00  2012-09-10         3001       5001.0\n",
      "7    70010.0       1983.43  2012-10-10         3004          NaN\n",
      "8    70003.0       2480.40  2012-10-10         3003       5003.0\n",
      "9    70012.0        250.45  2012-06-27         3002       5002.0\n",
      "10       NaN         75.29  2012-08-17         3001       5003.0\n",
      "11   70013.0       3045.60  2012-04-25         3001          NaN\n",
      "\n",
      "Missing values of the said dataframe:\n",
      "    Order_no  Purchase_amt  Order_date  Customer_id  Salesman_id\n",
      "0      False         False       False        False        False\n",
      "1       True         False       False        False        False\n",
      "2      False         False        True        False        False\n",
      "3      False         False       False        False         True\n",
      "4       True         False       False        False        False\n",
      "5      False         False       False        False        False\n",
      "6       True         False       False        False        False\n",
      "7      False         False       False        False         True\n",
      "8      False         False       False        False        False\n",
      "9      False         False       False        False        False\n",
      "10      True         False       False        False        False\n",
      "11     False         False       False        False         True\n"
     ]
    }
   ],
   "source": [
    "\n",
    "#Write a Pandas program to detect missing values of a given DataFrame. Display True or False\n",
    "\n",
    "import pandas as pd\n",
    "import numpy as np\n",
    "pd.set_option('display.max_rows', None)\n",
    "\n",
    "df = pd.DataFrame({\n",
    "'Order_no':[70001,np.nan,70002,70004,np.nan,70005,np.nan,70010,70003,70012,np.nan,70013],\n",
    "'Purchase_amt':[150.5,270.65,65.26,110.5,948.5,2400.6,5760,1983.43,2480.4,250.45, 75.29,3045.6],\n",
    "'Order_date': ['2012-10-05','2012-09-10',np.nan,'2012-08-17','2012-09-10','2012-07-27','2012-09-10','2012-10-10','2012-10-10','2012-06-27','2012-08-17','2012-04-25'],\n",
    "'Customer_id':[3002,3001,3001,3003,3002,3001,3001,3004,3003,3002,3001,3001],\n",
    "'Salesman_id':[5002,5003,5001,np.nan,5002,5001,5001,np.nan,5003,5002,5003,np.nan]})\n",
    "print(\"Original Orders DataFrame:\")\n",
    "print(df)\n",
    "print(\"\\nMissing values of the said dataframe:\")\n",
    "print(df.isna())"
   ]
  },
  {
   "cell_type": "code",
   "execution_count": 33,
   "metadata": {},
   "outputs": [
    {
     "name": "stdout",
     "output_type": "stream",
     "text": [
      "0     2\n",
      "1     4\n",
      "2     6\n",
      "3     8\n",
      "4    10\n",
      "5    12\n",
      "6    14\n",
      "7    15\n",
      "8    18\n",
      "dtype: int64\n"
     ]
    }
   ],
   "source": [
    "#Write a Pandas program to create and display a one-dimensional array-like object containing an array of\n",
    "#data.\n",
    "\n",
    "import pandas as pd\n",
    "ds = pd.Series([2, 4, 6, 8, 10,12,14,15,18])\n",
    "print(ds)"
   ]
  }
 ],
 "metadata": {
  "kernelspec": {
   "display_name": "Python 3",
   "language": "python",
   "name": "python3"
  },
  "language_info": {
   "codemirror_mode": {
    "name": "ipython",
    "version": 3
   },
   "file_extension": ".py",
   "mimetype": "text/x-python",
   "name": "python",
   "nbconvert_exporter": "python",
   "pygments_lexer": "ipython3",
   "version": "3.8.3"
  }
 },
 "nbformat": 4,
 "nbformat_minor": 4
}
