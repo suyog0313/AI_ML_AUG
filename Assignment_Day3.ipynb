{
 "cells": [
  {
   "cell_type": "code",
   "execution_count": 2,
   "metadata": {
    "scrolled": true
   },
   "outputs": [
    {
     "name": "stdout",
     "output_type": "stream",
     "text": [
      "Format for writing complex number a+bj\n",
      "Enter First Complex Number :8+8j\n",
      "Enter Second Complex Number :6+6j\n",
      "Subtraction is = (2+2j)\n"
     ]
    }
   ],
   "source": [
    "#Write a program to subtract two complex numbers in Python.\n",
    "print(\"Format for writing complex number a+bj\")\n",
    "num1=complex(input('Enter First Complex Number :'))\n",
    "num2=complex(input('Enter Second Complex Number :'))\n",
    "subtract=num1-num2\n",
    "print('Subtraction is =',subtract)\n"
   ]
  },
  {
   "cell_type": "code",
   "execution_count": 54,
   "metadata": {},
   "outputs": [
    {
     "name": "stdout",
     "output_type": "stream",
     "text": [
      "Enter the Number  :10000\n",
      "The Fourth root of the Number 10.0\n"
     ]
    }
   ],
   "source": [
    "#Write a program to find the fourth root of a number\n",
    "number=float(input(\"Enter the Number  :\"))\n",
    "number1=number**0.25\n",
    "print(\"The Fourth root of the Number\",number1)\n"
   ]
  },
  {
   "cell_type": "code",
   "execution_count": 53,
   "metadata": {},
   "outputs": [
    {
     "name": "stdout",
     "output_type": "stream",
     "text": [
      "Enter the First number : 10\n",
      "Enter the Second Number :20\n",
      "The First Number After Swapping: 20\n",
      "The Second Number After Swapping: 10\n"
     ]
    }
   ],
   "source": [
    "#Write a program to swap two numbers in Python with the help of a temporary variable\n",
    "number1=input(\"Enter the First number : \")\n",
    "number2=input(\"Enter the Second Number :\")\n",
    "temp=number1\n",
    "number1=number2\n",
    "number2=temp\n",
    "print(\"The First Number After Swapping:\",number1)\n",
    "print(\"The Second Number After Swapping:\",number2)"
   ]
  },
  {
   "cell_type": "code",
   "execution_count": 26,
   "metadata": {},
   "outputs": [
    {
     "name": "stdout",
     "output_type": "stream",
     "text": [
      "Enter the First Number :10\n",
      "Enter the Second Number :20\n",
      "The First Number After Swapping : 20\n",
      "The Second Number After Swapping : 10\n"
     ]
    }
   ],
   "source": [
    "#Write a program to swap two numbers in Python without using a temporary variable\n",
    "x=int(input(\"Enter the First Number :\"))\n",
    "y=int(input(\"Enter the Second Number :\"))\n",
    "x=x+y\n",
    "y=x-y\n",
    "x=x-y\n",
    "print(\"The First Number After Swapping :\",x)\n",
    "print(\"The Second Number After Swapping :\",y)"
   ]
  },
  {
   "cell_type": "code",
   "execution_count": 31,
   "metadata": {},
   "outputs": [
    {
     "name": "stdout",
     "output_type": "stream",
     "text": [
      "Enter the Temperature in Farenheit :50\n",
      "The Temperature in Celsius is : 10.0\n",
      "The Temperature in Kelvin is : 283.5\n"
     ]
    }
   ],
   "source": [
    "#Write a program to convert Fahrenheit to kelvin and celsius both\n",
    "F=float(input(\"Enter the Temperature in Farenheit :\"))\n",
    "Celsius = (F-32) * 5/9\n",
    "Kelvin = 273.5 + ((F - 32.0) * (5.0/9.0))\n",
    "print(\"The Temperature in Celsius is :\",Celsius)\n",
    "print(\"The Temperature in Kelvin is :\",Kelvin)"
   ]
  },
  {
   "cell_type": "code",
   "execution_count": 41,
   "metadata": {},
   "outputs": [
    {
     "name": "stdout",
     "output_type": "stream",
     "text": [
      "Ther Value of of a is type of  <class 'int'>\n",
      "Ther Value of of b is type of  <class 'float'>\n",
      "Ther Value of of c is type of  <class 'str'>\n",
      "Ther Value of of d is type of  <class 'complex'>\n",
      "Ther Value of of e is type of  <class 'list'>\n",
      "Ther Value of of f is type of  <class 'tuple'>\n",
      "Ther Value of of g is type of  <class 'dict'>\n",
      "Ther Value of of h is type of  <class 'set'>\n",
      "Ther Value of of i is type of  <class 'range'>\n",
      "Ther Value of of j is type of  <class 'bool'>\n"
     ]
    }
   ],
   "source": [
    "#Write a program to demonstrate all the available data types in Python. Hint: Use type() function\n",
    "a=10\n",
    "print(\"Ther Value of of a is type of \",type(a))\n",
    "b=22.100\n",
    "print(\"Ther Value of of b is type of \",type(b))\n",
    "c=\"Hi\"\n",
    "print(\"Ther Value of of c is type of \",type(c))\n",
    "d=4+5j\n",
    "print(\"Ther Value of of d is type of \",type(d))\n",
    "e=[\"Rakesh\",\"Suresh\",\"Ganehsh\"]\n",
    "print(\"Ther Value of of e is type of \",type(e))\n",
    "f=(\"Rakesh\",\"Suresh\",\"Ganehsh\")  \n",
    "print(\"Ther Value of of f is type of \",type(f))\n",
    "g = {\"name\" : \"John\", \"age\" : 36}\n",
    "print(\"Ther Value of of g is type of \",type(g))\n",
    "h = {\"apple\", \"banana\", \"cherry\"}\n",
    "print(\"Ther Value of of h is type of \",type(h))\n",
    "i = range(6)\n",
    "print(\"Ther Value of of i is type of \",type(i))\n",
    "j = True\n",
    "print(\"Ther Value of of j is type of \",type(j))"
   ]
  },
  {
   "cell_type": "code",
   "execution_count": null,
   "metadata": {},
   "outputs": [],
   "source": []
  }
 ],
 "metadata": {
  "kernelspec": {
   "display_name": "Python 3",
   "language": "python",
   "name": "python3"
  },
  "language_info": {
   "codemirror_mode": {
    "name": "ipython",
    "version": 3
   },
   "file_extension": ".py",
   "mimetype": "text/x-python",
   "name": "python",
   "nbconvert_exporter": "python",
   "pygments_lexer": "ipython3",
   "version": "3.8.3"
  }
 },
 "nbformat": 4,
 "nbformat_minor": 4
}
