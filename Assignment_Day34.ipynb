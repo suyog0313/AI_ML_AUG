{
 "cells": [
  {
   "cell_type": "code",
   "execution_count": 8,
   "metadata": {},
   "outputs": [
    {
     "name": "stdout",
     "output_type": "stream",
     "text": [
      "Training accuracy is: 1.0\n",
      "Testing accuracy is: 0.98\n",
      "Training accuracy with max_depth = 2 is: 0.95\n",
      "Testing accuracy with max_depth = 2 is: 0.98\n"
     ]
    }
   ],
   "source": [
    "# importing the iris dataset\n",
    "from sklearn import datasets\n",
    "from sklearn.model_selection import train_test_split\n",
    "\n",
    "iris = datasets.load_iris()\n",
    "X = iris.data\n",
    "y = iris.target\n",
    "\n",
    "X_train, X_test, y_train, y_test = train_test_split(\n",
    "    X, y, test_size = 0.33, random_state = 42, shuffle = True)\n",
    "\n",
    "\n",
    "# building our decision tree classifier and fitting the model\n",
    "from sklearn import tree\n",
    "\n",
    "model = tree.DecisionTreeClassifier()\n",
    "model.fit(X_train, y_train)\n",
    "\n",
    "\n",
    "\n",
    "# predicting on the train and the test data and assessing the accuracies\n",
    "from sklearn.metrics import accuracy_score\n",
    "\n",
    "pred_train = model.predict(X_train)\n",
    "pred_test = model.predict(X_test)\n",
    "train_accuracy = accuracy_score(y_train, pred_train)\n",
    "test_accuracy = accuracy_score(y_test, pred_test)\n",
    "print('Training accuracy is: {0}'.format(train_accuracy))\n",
    "print('Testing accuracy is: {0}'.format(test_accuracy))\n",
    "\n",
    "# calculating the accuracy again with max_depth = 2\n",
    "\n",
    "model2 = tree.DecisionTreeClassifier(max_depth = 2)\n",
    "model2.fit(X_train, y_train)\n",
    "\n",
    "pred_train = model2.predict(X_train)\n",
    "pred_test = model2.predict(X_test)\n",
    "train_accuracy = accuracy_score(y_train, pred_train)\n",
    "test_accuracy = accuracy_score(y_test, pred_test)\n",
    "print('Training accuracy with max_depth = 2 is: {0}'.format(train_accuracy))\n",
    "print('Testing accuracy with max_depth = 2 is: {0}'.format(test_accuracy))\n",
    "\n",
    "\n"
   ]
  },
  {
   "cell_type": "code",
   "execution_count": null,
   "metadata": {},
   "outputs": [],
   "source": []
  },
  {
   "cell_type": "code",
   "execution_count": null,
   "metadata": {},
   "outputs": [],
   "source": []
  }
 ],
 "metadata": {
  "kernelspec": {
   "display_name": "Python 3",
   "language": "python",
   "name": "python3"
  },
  "language_info": {
   "codemirror_mode": {
    "name": "ipython",
    "version": 3
   },
   "file_extension": ".py",
   "mimetype": "text/x-python",
   "name": "python",
   "nbconvert_exporter": "python",
   "pygments_lexer": "ipython3",
   "version": "3.8.3"
  }
 },
 "nbformat": 4,
 "nbformat_minor": 4
}
