{
 "cells": [
  {
   "cell_type": "code",
   "execution_count": 2,
   "metadata": {},
   "outputs": [
    {
     "name": "stdout",
     "output_type": "stream",
     "text": [
      "One-way ANOVA\n",
      "**********************\n",
      "F value: 4.999999999999998\n",
      "P value: 0.021683749320078414 \n",
      "\n",
      "Multiple Comparison of Means - Tukey HSD, FWER=0.05 \n",
      "====================================================\n",
      "group1 group2 meandiff p-adj   lower   upper  reject\n",
      "----------------------------------------------------\n",
      "  Alex   Jack  -3.3333 0.0435 -6.5755 -0.0911   True\n",
      "  Alex    Pat     -3.5 0.0337 -6.7422 -0.2578   True\n",
      "  Jack    Pat  -0.1667    0.9 -3.4089  3.0755  False\n",
      "----------------------------------------------------\n",
      "['Alex' 'Jack' 'Pat']\n"
     ]
    }
   ],
   "source": [
    "import numpy as np\n",
    "\n",
    "from statsmodels.stats.multicomp import pairwise_tukeyhsd\n",
    "from statsmodels.stats.multicomp import MultiComparison\n",
    "from scipy import stats\n",
    "\n",
    "data = np.rec.array([\n",
    "('Pat', 5),\n",
    "('Pat', 4),\n",
    "('Pat', 4),\n",
    "('Pat', 3),\n",
    "('Pat', 9),\n",
    "('Pat', 4),\n",
    "('Jack', 4),\n",
    "('Jack', 8),\n",
    "('Jack', 7),\n",
    "('Jack', 5),\n",
    "('Jack', 1),\n",
    "('Jack', 5),\n",
    "('Alex', 9),\n",
    "('Alex', 8),\n",
    "('Alex', 8),\n",
    "('Alex', 10),\n",
    "('Alex', 5),\n",
    "('Alex', 10)], dtype = [('Archer','|U5'),('Score', '<i8')])\n",
    "\n",
    "f, p = stats.f_oneway(data[data['Archer'] == 'Pat'].Score,\n",
    "\t              data[data['Archer'] == 'Jack'].Score,\n",
    "                      data[data['Archer'] == 'Alex'].Score)\n",
    "\n",
    "print ('One-way ANOVA')\n",
    "print ('**********************')\n",
    "\n",
    "print ('F value:', f)\n",
    "print ('P value:', p, '\\n')\n",
    "\n",
    "mc = MultiComparison(data['Score'], data['Archer'])\n",
    "result = mc.tukeyhsd()\n",
    "\n",
    "print(result)\n",
    "print(mc.groupsunique)"
   ]
  },
  {
   "cell_type": "code",
   "execution_count": null,
   "metadata": {},
   "outputs": [],
   "source": []
  }
 ],
 "metadata": {
  "kernelspec": {
   "display_name": "Python 3",
   "language": "python",
   "name": "python3"
  },
  "language_info": {
   "codemirror_mode": {
    "name": "ipython",
    "version": 3
   },
   "file_extension": ".py",
   "mimetype": "text/x-python",
   "name": "python",
   "nbconvert_exporter": "python",
   "pygments_lexer": "ipython3",
   "version": "3.8.3"
  }
 },
 "nbformat": 4,
 "nbformat_minor": 4
}
