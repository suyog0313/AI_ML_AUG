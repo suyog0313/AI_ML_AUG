{
 "cells": [
  {
   "cell_type": "code",
   "execution_count": 8,
   "metadata": {},
   "outputs": [
    {
     "name": "stdout",
     "output_type": "stream",
     "text": [
      "Enter email address: suyogpatil@google.com\n"
     ]
    },
    {
     "data": {
      "text/plain": [
       "'google'"
      ]
     },
     "execution_count": 8,
     "metadata": {},
     "output_type": "execute_result"
    }
   ],
   "source": [
    "# Assuming that we have some email addresses in the \"username@companyname.com\" format, please\n",
    "# write a program to print the company name of a given email address. Both user names and company\n",
    "# names are composed of letters only.\n",
    "email=input(\"Enter email address: \")\n",
    "def company_name(email):\n",
    "    index_of_at = email.find('@')\n",
    "\n",
    "    return email[index_of_at+1:email.find('.')]\n",
    "company_name(email)"
   ]
  },
  {
   "cell_type": "code",
   "execution_count": 9,
   "metadata": {},
   "outputs": [
    {
     "name": "stdout",
     "output_type": "stream",
     "text": [
      "Enter the Comma Separated String : fat,cat,bat,at,that,swat\n",
      "The Sorted list is : ['at', 'bat', 'cat', 'fat', 'swat', 'that']\n"
     ]
    }
   ],
   "source": [
    "# Write a program that accepts a comma-separated sequence of words as input and prints the words in a\n",
    "# comma-separated sequence after sorting them alphabetically.\n",
    "\n",
    "listOfStrings=input(\"Enter the Comma Separated String : \")\n",
    "list = listOfStrings.split (\",\")\n",
    "list.sort()\n",
    "print(\"The Sorted list is :\",list)"
   ]
  },
  {
   "cell_type": "code",
   "execution_count": 22,
   "metadata": {},
   "outputs": [
    {
     "name": "stdout",
     "output_type": "stream",
     "text": [
      "The List of Set1 :  {'apple', 'grapes', 'banana', 'cherry', 'orange', 'mango'}\n",
      "The List of Set2 :  {'grapes', 'banana', 'kiwi', 'coconut', 'lychee', 'papaya', 'lime', 'mango'}\n",
      "After Adding blackberry fruit in Set1 : {'apple', 'grapes', 'banana', 'cherry', 'blackberry', 'orange', 'mango'}\n",
      "The Length of Set1 :  7\n",
      "The Length of Set2 :  8\n",
      "The Difference between two sets list is : {'cherry', 'apple', 'blackberry', 'orange'}\n",
      "The Intersection of two sets are :  {'mango', 'banana', 'grapes'}\n",
      "The Union of two sets are : {'apple', 'grapes', 'banana', 'kiwi', 'cherry', 'coconut', 'lychee', 'blackberry', 'papaya', 'orange', 'lime', 'mango'}\n",
      "The Set1 is subset od set2 its: False\n",
      "After Removing Banana fruit from the List : {'apple', 'grapes', 'cherry', 'blackberry', 'orange', 'mango'}\n",
      "After the Pop from the list : {'grapes', 'cherry', 'blackberry', 'orange', 'mango'}\n"
     ]
    }
   ],
   "source": [
    "set1 = {\"apple\", \"banana\", \"cherry\",\"orange\", \"mango\", \"grapes\"}\n",
    "set2={\"lime\",\"kiwi\",\"coconut\",\"banana\",\"papaya\",\"mango\",\"grapes\",\"lychee\"}\n",
    "print(\"The List of Set1 : \",set1)\n",
    "print(\"The List of Set2 : \",set2)\n",
    "set1.add(\"blackberry\")\n",
    "print(\"After Adding blackberry fruit in Set1 :\",set1)\n",
    "print(\"The Length of Set1 : \",len(set1))\n",
    "print(\"The Length of Set2 : \",len(set2))\n",
    "p=set1.difference(set2)\n",
    "print(\"The Difference between two sets list is :\",p)\n",
    "d=set1.intersection(set2)\n",
    "print(\"The Intersection of two sets are : \",d)\n",
    "k=set1.union(set2)\n",
    "print(\"The Union of two sets are :\",k)\n",
    "h=set1.issubset(set2)\n",
    "print(\"The Set1 is subset od set2 its:\",h)\n",
    "set1.remove(\"banana\")\n",
    "print(\"After Removing Banana fruit from the List :\",set1)\n",
    "set1.pop()\n",
    "print(\"After the Pop from the list :\",set1)\n"
   ]
  },
  {
   "cell_type": "code",
   "execution_count": 25,
   "metadata": {},
   "outputs": [
    {
     "name": "stdout",
     "output_type": "stream",
     "text": [
      "[3, 5, 8, 12, 15, 16, 17, 19]\n"
     ]
    }
   ],
   "source": [
    "#Given a list of n-1 numbers ranging from 1 to n, your task is to find the missing number. There are no\n",
    "#duplicates.\n",
    "def missing_num(lst): \n",
    "    return [x for x in range(lst[0], lst[-1]+1)  \n",
    "                               if x not in lst] \n",
    "  \n",
    "lst = [1, 2, 4, 6, 7, 9, 10,11,13,14,18,20] \n",
    "print(missing_num(lst)) "
   ]
  },
  {
   "cell_type": "code",
   "execution_count": null,
   "metadata": {},
   "outputs": [],
   "source": [
    "# With a given list L, write a program to print this list L after removing all duplicate values with original order\n",
    "# reserved.\n",
    "test_list = [1, 3, 5, 6, 3, 5, 6, 1] \n",
    "\n",
    "print (\"The original list is : \" +  str(test_list)) \n",
    "res = [] \n",
    "for i in test_list: \n",
    "    if i not in res: \n",
    "        res.append(i) \n",
    "        \n",
    "print (\"The list after removing duplicates : \" + str(res))\n",
    "        "
   ]
  },
  {
   "cell_type": "code",
   "execution_count": 4,
   "metadata": {},
   "outputs": [
    {
     "name": "stdout",
     "output_type": "stream",
     "text": [
      "The original list is : ['5', '3', '12', '3', '544', '5', '1', '7', '1']\n",
      "The list after removing duplicates : ['5', '3', '12', '544', '1', '7']\n"
     ]
    }
   ],
   "source": [
    "numbers = '5 3 12 3 544 5 1 7 1'\n",
    "alist = numbers.split()\n",
    "alist\n",
    "print (\"The original list is : \" +  str(alist)) \n",
    "res = [] \n",
    "for i in alist: \n",
    "    if i not in res: \n",
    "        res.append(i) \n",
    "        \n",
    "print (\"The list after removing duplicates : \" + str(res))\n",
    "        "
   ]
  },
  {
   "cell_type": "code",
   "execution_count": null,
   "metadata": {},
   "outputs": [],
   "source": []
  }
 ],
 "metadata": {
  "kernelspec": {
   "display_name": "Python 3",
   "language": "python",
   "name": "python3"
  },
  "language_info": {
   "codemirror_mode": {
    "name": "ipython",
    "version": 3
   },
   "file_extension": ".py",
   "mimetype": "text/x-python",
   "name": "python",
   "nbconvert_exporter": "python",
   "pygments_lexer": "ipython3",
   "version": "3.8.3"
  }
 },
 "nbformat": 4,
 "nbformat_minor": 4
}
