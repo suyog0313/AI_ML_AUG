{
 "cells": [
  {
   "cell_type": "code",
   "execution_count": 2,
   "metadata": {},
   "outputs": [
    {
     "name": "stdout",
     "output_type": "stream",
     "text": [
      "Confusion matrix : \n",
      " [[4 4]\n",
      " [5 0]]\n",
      "Outcome values : \n",
      " 4 4 5 0\n",
      "Classification report : \n",
      "               precision    recall  f1-score   support\n",
      "\n",
      "           1       0.44      0.50      0.47         8\n",
      "           0       0.00      0.00      0.00         5\n",
      "\n",
      "    accuracy                           0.31        13\n",
      "   macro avg       0.22      0.25      0.24        13\n",
      "weighted avg       0.27      0.31      0.29        13\n",
      "\n"
     ]
    }
   ],
   "source": [
    "# confusion matrix in sklearn\n",
    "from sklearn.metrics import confusion_matrix\n",
    "from sklearn.metrics import classification_report\n",
    "\n",
    "# actual values\n",
    "actual = [1,1,1,1,0,0,1,0,0,1,1,1,0]\n",
    "# predicted values\n",
    "predicted = [1,0,0,1,1,1,0,1,1,0,1,1,1]\n",
    "\n",
    "# confusion matrix\n",
    "matrix = confusion_matrix(actual,predicted, labels=[1,0])\n",
    "print('Confusion matrix : \\n',matrix)\n",
    "\n",
    "# outcome values order in sklearn\n",
    "tp, fn, fp, tn = confusion_matrix(actual,predicted,labels=[1,0]).reshape(-1)\n",
    "print('Outcome values : \\n', tp, fn, fp, tn)\n",
    "\n",
    "# classification report for precision, recall f1-score and accuracy\n",
    "matrix = classification_report(actual,predicted,labels=[1,0])\n",
    "print('Classification report : \\n',matrix)\n"
   ]
  },
  {
   "cell_type": "code",
   "execution_count": 12,
   "metadata": {},
   "outputs": [
    {
     "name": "stdout",
     "output_type": "stream",
     "text": [
      "recall: 1.00\n",
      "precision: 0.89\n",
      "  FN    FP   TP     pre   acc   rec   f1\n",
      "  0.00  0.00 94.00  1.00  1.00  1.00  1.00\n",
      "  1.00  0.00 93.00  1.00  0.99  0.99  0.99\n",
      "  1.00  1.00 92.00  0.99  0.98  0.99  0.99\n",
      "  2.00  0.00 92.00  1.00  0.98  0.98  0.99\n",
      "  2.00  1.00 91.00  0.99  0.98  0.98  0.98\n",
      "  2.00  2.00 90.00  0.98  0.97  0.98  0.98\n",
      "  3.00  0.00 91.00  1.00  0.98  0.97  0.98\n",
      "  3.00  1.00 90.00  0.99  0.97  0.97  0.98\n",
      "  3.00  2.00 89.00  0.98  0.96  0.97  0.97\n",
      "  3.00  3.00 88.00  0.97  0.95  0.97  0.97\n",
      "  4.00  0.00 90.00  1.00  0.97  0.96  0.98\n",
      "  4.00  1.00 89.00  0.99  0.96  0.96  0.97\n",
      "  4.00  2.00 88.00  0.98  0.95  0.96  0.97\n",
      "  4.00  3.00 87.00  0.97  0.94  0.96  0.96\n",
      "  4.00  4.00 86.00  0.96  0.94  0.96  0.96\n",
      "  5.00  0.00 89.00  1.00  0.96  0.95  0.97\n",
      "  5.00  1.00 88.00  0.99  0.95  0.95  0.97\n",
      "  5.00  2.00 87.00  0.98  0.94  0.95  0.96\n",
      "  5.00  3.00 86.00  0.97  0.94  0.95  0.96\n",
      "  5.00  4.00 85.00  0.96  0.93  0.94  0.95\n",
      "  5.00  5.00 84.00  0.94  0.92  0.94  0.94\n",
      "  6.00  0.00 88.00  1.00  0.95  0.94  0.97\n",
      "  6.00  1.00 87.00  0.99  0.94  0.94  0.96\n",
      "  6.00  2.00 86.00  0.98  0.94  0.93  0.96\n",
      "  6.00  3.00 85.00  0.97  0.93  0.93  0.95\n",
      "  6.00  4.00 84.00  0.95  0.92  0.93  0.94\n",
      "  6.00  5.00 83.00  0.94  0.91  0.93  0.94\n",
      "  6.00  6.00 82.00  0.93  0.90  0.93  0.93\n",
      "The Accuracy Score 0.5\n",
      "The Positive Precision Score 0.6\n",
      "The Negative Precision Score 0.4\n"
     ]
    }
   ],
   "source": [
    "TP = 42\n",
    "TN = 32\n",
    "FP = 8\n",
    "FN = 18\n",
    "\n",
    "\n",
    "\n",
    "TP = 114\n",
    "FN = 0\n",
    "# FT (14) and TN (12) are not needed in the formuala!\n",
    "recall = TP / (TP + FN)\n",
    "print(f\"recall: {recall:4.2f}\")\n",
    "\n",
    "\n",
    "\n",
    "\n",
    "\n",
    "TP = 114\n",
    "FP = 14\n",
    "# FN (0) and TN (12) are not needed in the formuala!\n",
    "precision = TP / (TP + FP)\n",
    "print(f\"precision: {precision:4.2f}\")\n",
    "\n",
    "\n",
    "TF = 6 # we set the True false values to 5 %\n",
    "print(\"  FN    FP   TP     pre   acc   rec   f1\")\n",
    "for FN in range(0, 7):\n",
    "    for FP in range(0, FN+1):\n",
    "        # the sum of FN, FP, TF and TP will be 100:\n",
    "        TP = 100 - FN - FP - TF\n",
    "        #print(FN, FP, TP, FN+FP+TP+TF)\n",
    "        precision = TP / (TP + FP)\n",
    "        accuracy = (TP + TN)/(TP + TN + FP + FN)\n",
    "        recall = TP / (TP + FN)\n",
    "        f1_score = 2 * precision * recall / (precision + recall)\n",
    "        print(f\"{FN:6.2f}{FP:6.2f}{TP:6.2f}\", end=\"\")\n",
    "        print(f\"{precision:6.2f}{accuracy:6.2f}{recall:6.2f}{f1_score:6.2f}\")\n",
    "        \n",
    "        \n",
    "       \n",
    "\n",
    "\n",
    "\n"
   ]
  },
  {
   "cell_type": "code",
   "execution_count": 13,
   "metadata": {},
   "outputs": [
    {
     "name": "stdout",
     "output_type": "stream",
     "text": [
      "The Accuracy Score 0.5\n"
     ]
    }
   ],
   "source": [
    " y_true = [1, 1, 0, 1, 0, 0, 0, 1, 1,1]\n",
    "y_pred = [1, 1, 1, 0, 1, 0, 0, 1, 0, 0]\n",
    "from sklearn.metrics import accuracy_score\n",
    "print(\"The Accuracy Score\",accuracy_score(y_true, y_pred))\n"
   ]
  },
  {
   "cell_type": "code",
   "execution_count": 14,
   "metadata": {},
   "outputs": [
    {
     "name": "stdout",
     "output_type": "stream",
     "text": [
      "The Positive Precision Score 0.6\n",
      "The Negative Precision Score 0.4\n"
     ]
    }
   ],
   "source": [
    "from sklearn.metrics import precision_score\n",
    "positive = precision_score(y_true, y_pred, pos_label=1)\n",
    "print(\"The Positive Precision Score\",positive)\n",
    "\n",
    "negative = precision_score(y_true, y_pred, pos_label=0)\n",
    "print(\"The Negative Precision Score\",negative)\n",
    "\n"
   ]
  },
  {
   "cell_type": "code",
   "execution_count": 15,
   "metadata": {},
   "outputs": [
    {
     "name": "stdout",
     "output_type": "stream",
     "text": [
      "The Positive Recall Score 0.5\n",
      "The Negative Recall Score 0.5\n"
     ]
    }
   ],
   "source": [
    "from sklearn.metrics import recall_score\n",
    "positive = recall_score(y_true, y_pred, pos_label=1)\n",
    "print(\"The Positive Recall Score\",positive)\n",
    "\n",
    "negative = recall_score(y_true, y_pred, pos_label=0)\n",
    "print(\"The Negative Recall Score\",negative)"
   ]
  },
  {
   "cell_type": "code",
   "execution_count": 17,
   "metadata": {},
   "outputs": [
    {
     "name": "stdout",
     "output_type": "stream",
     "text": [
      "The Positive F1 Score 0.5\n",
      "The Negative F1 Score 0.4444444444444445\n"
     ]
    }
   ],
   "source": [
    "from sklearn.metrics import f1_score\n",
    "postive = f1_score(y_true, y_pred, pos_label=1)\n",
    "print(\"The Positive F1 Score\",positive)\n",
    "\n",
    "\n",
    "negative = f1_score(y_true, y_pred, pos_label=0)\n",
    "print(\"The Negative F1 Score\",negative)"
   ]
  },
  {
   "cell_type": "code",
   "execution_count": 18,
   "metadata": {},
   "outputs": [
    {
     "name": "stdout",
     "output_type": "stream",
     "text": [
      "              precision    recall  f1-score   support\n",
      "\n",
      "           0       0.40      0.50      0.44         4\n",
      "           1       0.60      0.50      0.55         6\n",
      "\n",
      "    accuracy                           0.50        10\n",
      "   macro avg       0.50      0.50      0.49        10\n",
      "weighted avg       0.52      0.50      0.51        10\n",
      "\n"
     ]
    }
   ],
   "source": [
    "from sklearn.metrics import classification_report\n",
    "report = classification_report(y_true, y_pred)\n",
    "print(report)"
   ]
  },
  {
   "cell_type": "code",
   "execution_count": null,
   "metadata": {},
   "outputs": [],
   "source": []
  }
 ],
 "metadata": {
  "kernelspec": {
   "display_name": "Python 3",
   "language": "python",
   "name": "python3"
  },
  "language_info": {
   "codemirror_mode": {
    "name": "ipython",
    "version": 3
   },
   "file_extension": ".py",
   "mimetype": "text/x-python",
   "name": "python",
   "nbconvert_exporter": "python",
   "pygments_lexer": "ipython3",
   "version": "3.8.3"
  }
 },
 "nbformat": 4,
 "nbformat_minor": 4
}
