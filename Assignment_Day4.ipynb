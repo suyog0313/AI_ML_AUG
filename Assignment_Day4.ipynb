{
 "cells": [
  {
   "cell_type": "code",
   "execution_count": 13,
   "metadata": {},
   "outputs": [
    {
     "name": "stdout",
     "output_type": "stream",
     "text": [
      "the Number in the form of a+bj\n",
      "Enter the First Number : 4+4j\n",
      "Enter the Second Number3+3j\n",
      "Addition of two complex numbers :  (7+7j)\n",
      "Subtraction of two complex numbers :  (1+1j)\n",
      "Multiplication of two complex numbers :  24j\n",
      "Division of two complex numbers :  (1.3333333333333333+0j)\n"
     ]
    }
   ],
   "source": [
    "#Research on whether addition, subtraction, multiplication, division, floor division, and modulo operations\n",
    "#be performed on complex numbers. Based on your study, implement a Python program to demonstrate\n",
    "#these operations.\n",
    "\n",
    "print(\"the Number in the form of a+bj\")\n",
    "num1=complex(input(\"Enter the First Number : \"))\n",
    "num2=complex(input(\"Enter the Second Number\"))\n",
    "print(\"Addition of two complex numbers : \",(num1)+(num2))\n",
    "print(\"Subtraction of two complex numbers : \",(num1)-(num2))\n",
    "print(\"Multiplication of two complex numbers : \",(num1)*(num2))\n",
    "print(\"Division of two complex numbers : \",(num1)/(num2))\n",
    "#print(\"Floor Division of two complex numbers : \",(num1)//(num2))----TypeError: can't take floor of complex number.\n",
    "#print(\"Modulo Division of two complex numbers : \",(num1)%(num2))----TypeError: can't mod complex numbers.\n",
    "\n",
    "\n",
    "\n"
   ]
  },
  {
   "cell_type": "code",
   "execution_count": 14,
   "metadata": {},
   "outputs": [
    {
     "name": "stdout",
     "output_type": "stream",
     "text": [
      "Enter the Number :\n",
      "0\n",
      "1\n",
      "2\n",
      "3\n",
      "4\n",
      "5\n",
      "6\n",
      "7\n",
      "8\n",
      "9\n"
     ]
    }
   ],
   "source": [
    "#Range Function used to store start,stop and step values\n",
    "#Small program on range function\n",
    "print(\"Enter the Number :\")\n",
    "for sequence in range(10):\n",
    "    print(sequence)"
   ]
  },
  {
   "cell_type": "code",
   "execution_count": 31,
   "metadata": {},
   "outputs": [
    {
     "name": "stdout",
     "output_type": "stream",
     "text": [
      "Enter the First Number :70\n",
      "Enter the Second Number:20\n",
      "The Answer is their multiplication =: 1400\n"
     ]
    }
   ],
   "source": [
    "#Consider two numbers. Perform their subtraction and if the result of subtraction is greater than 25, print\n",
    "#their multiplication result else print their division result.\n",
    "num1= int(input(\"Enter the First Number :\"))\n",
    "num2= int(input(\"Enter the Second Number:\"))\n",
    "ans=num1-num2\n",
    "if ans > 25:\n",
    "    print(\"The Answer is their multiplication =:\", num1*num2)\n",
    "else :\n",
    "    print(\"The Answer is their division =\",num1/num2)\n"
   ]
  },
  {
   "cell_type": "code",
   "execution_count": 32,
   "metadata": {},
   "outputs": [
    {
     "name": "stdout",
     "output_type": "stream",
     "text": [
      "Enter the First Number :70\n",
      "Enter the Second Number:50\n",
      "The Answer is their division = 1.4\n"
     ]
    }
   ],
   "source": [
    "#Consider two numbers. Perform their subtraction and if the result of subtraction is greater than 25, print\n",
    "#their multiplication result else print their division result.\n",
    "num1= int(input(\"Enter the First Number :\"))\n",
    "num2= int(input(\"Enter the Second Number:\"))\n",
    "ans=num1-num2\n",
    "if ans > 25:\n",
    "    print(\"The Answer is their multiplication =:\", num1*num2)\n",
    "else :\n",
    "    print(\"The Answer is their division =\",num1/num2)\n"
   ]
  },
  {
   "cell_type": "code",
   "execution_count": 19,
   "metadata": {},
   "outputs": [
    {
     "name": "stdout",
     "output_type": "stream",
     "text": [
      "The Number 2 is divisble by 2 answer is 2\n",
      "The Number 4 is divisble by 2 answer is 14\n",
      "The Number 6 is divisble by 2 answer is 34\n",
      "The Number 8 is divisble by 2 answer is 62\n",
      "The Number 10 is divisble by 2 answer is 98\n"
     ]
    }
   ],
   "source": [
    "#Consider a list of 10 elements of integer values. If the number in the list is divisible by 2, print the result as\n",
    "#\"square of that number minus 2\".\n",
    "x=[2,3,4,5,6,7,8,9,10,11]\n",
    "for n in x :\n",
    "    if(n%2==0):\n",
    "        print(\"The Number\",n,\"is divisble by 2 answer is\",(n*n)-2)\n",
    "       \n",
    "        \n",
    "    "
   ]
  },
  {
   "cell_type": "code",
   "execution_count": 21,
   "metadata": {},
   "outputs": [
    {
     "name": "stdout",
     "output_type": "stream",
     "text": [
      "12 Number divided by 2 and greater than 7 \n",
      "14 Number divided by 2 and greater than 7 \n",
      "16 Number divided by 2 and greater than 7 \n",
      "18 Number divided by 2 and greater than 7 \n",
      "20 Number divided by 2 and greater than 7 \n"
     ]
    }
   ],
   "source": [
    "#Consider a list of 10 elements. Print all the elements in the list which are greater than 7 when that number\n",
    "#is divided 2.\n",
    "x=[11,12,13,14,15,16,17,18,19,20]\n",
    "\n",
    "\n",
    "for n in x:\n",
    "    if (n%2==0) and (n>7):\n",
    "        print(n,\"Number divided by 2 and greater than 7 \")\n",
    "       \n"
   ]
  }
 ],
 "metadata": {
  "kernelspec": {
   "display_name": "Python 3",
   "language": "python",
   "name": "python3"
  },
  "language_info": {
   "codemirror_mode": {
    "name": "ipython",
    "version": 3
   },
   "file_extension": ".py",
   "mimetype": "text/x-python",
   "name": "python",
   "nbconvert_exporter": "python",
   "pygments_lexer": "ipython3",
   "version": "3.8.3"
  }
 },
 "nbformat": 4,
 "nbformat_minor": 4
}
