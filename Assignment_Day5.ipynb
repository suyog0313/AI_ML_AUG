{
 "cells": [
  {
   "cell_type": "code",
   "execution_count": 19,
   "metadata": {},
   "outputs": [
    {
     "name": "stdout",
     "output_type": "stream",
     "text": [
      "1\n",
      "3\n",
      "5\n",
      "7\n",
      "11\n",
      "13\n",
      "17\n",
      "19\n",
      "23\n",
      "29\n",
      "31\n",
      "37\n",
      "41\n",
      "43\n",
      "47\n",
      "53\n",
      "59\n",
      "61\n",
      "67\n",
      "71\n"
     ]
    }
   ],
   "source": [
    "#Write a Python program to find the first 20 non-even prime natural numbers.\n",
    "count=0\n",
    "for i in range(1,100): \n",
    "    for j in range(2,i): \n",
    "        if(i % j==0): \n",
    "            break\n",
    "    else: \n",
    "        if(i%2==0):\n",
    "            continue\n",
    "        print(i) \n",
    "        count+=1\n",
    "        if(count==20):\n",
    "            break\n",
    "           "
   ]
  },
  {
   "cell_type": "code",
   "execution_count": 52,
   "metadata": {},
   "outputs": [
    {
     "name": "stdout",
     "output_type": "stream",
     "text": [
      "  this is my country india\n",
      "  this is my country india\n",
      "4\n",
      "True\n",
      "-1\n",
      "False\n",
      "  THIS IS MY COUNTRY INDIA\n",
      "13\n",
      "False\n",
      "False\n",
      "False\n",
      "True\n",
      "THIS IS MY COUNTRY INDIA\n",
      "  THIS IS OUR COUNTRY INDIA\n",
      "  this is my country india\n"
     ]
    }
   ],
   "source": [
    "#Write a Python program to implement 15 functions of string\n",
    "str=\"  THIS IS MY COUNTRY INDIA\"\n",
    "x=str.capitalize()\n",
    "print(x)\n",
    "y=str.casefold()\n",
    "print(y)\n",
    "z=str.count(\"I\")\n",
    "print(z)\n",
    "a=str.endswith(\"A\")\n",
    "print(a)\n",
    "sb=str.find(\"to\")\n",
    "print(sb)\n",
    "p=str.islower()\n",
    "print(p)\n",
    "k=str.format()\n",
    "print(k)\n",
    "ab=str.index(\"C\")\n",
    "print(ab)\n",
    "pp=str.isalpha()\n",
    "print(pp)\n",
    "ss=str.isdecimal()\n",
    "print(ss)\n",
    "cc=str.isnumeric()\n",
    "print(cc)\n",
    "dd=str.isprintable()\n",
    "print(dd)\n",
    "ff=str.lstrip()\n",
    "print(ff)\n",
    "hh=str.replace(\"MY\",\"OUR\")\n",
    "print(hh)\n",
    "kk=str.swapcase()\n",
    "print(kk)"
   ]
  },
  {
   "cell_type": "code",
   "execution_count": 90,
   "metadata": {},
   "outputs": [
    {
     "name": "stdout",
     "output_type": "stream",
     "text": [
      "Enter the name: ana\n",
      "Palindrome\n"
     ]
    }
   ],
   "source": [
    "#Write a Python program to check if the given string is a Palindrome or Anagram or None of them. Display\n",
    "#the message accordingly to the user.\n",
    "a=input(\"Enter the name: \")\n",
    "b=\"\"\n",
    "for i in a:\n",
    "    b = i + b\n",
    "    \n",
    "if(a==b):\n",
    "        print(\"Palindrome\")\n",
    "\n",
    "else:\n",
    "           if (sorted(a)==sorted(b)):\n",
    "            print(\"the word is anagram\")\n",
    "        \n",
    "    \n",
    "\n",
    "\n"
   ]
  },
  {
   "cell_type": "code",
   "execution_count": 91,
   "metadata": {},
   "outputs": [
    {
     "name": "stdout",
     "output_type": "stream",
     "text": [
      "Enter the name: school\n",
      "the word is anagram\n"
     ]
    }
   ],
   "source": [
    "a=input(\"Enter the name: \")\n",
    "b=\"\"\n",
    "for i in a:\n",
    "    b = i + b\n",
    "    \n",
    "if(a==b):\n",
    "        print(\"Palindrome\")\n",
    "\n",
    "else:\n",
    "           if (sorted(a)==sorted(b)):\n",
    "            print(\"the word is anagram\")\n",
    "        \n",
    "    "
   ]
  },
  {
   "cell_type": "code",
   "execution_count": 34,
   "metadata": {},
   "outputs": [
    {
     "name": "stdout",
     "output_type": "stream",
     "text": [
      "Enter the string: Dr. Darshan Ingle @AIML Trainer\n",
      "drdarshaningleaimltrainer\n"
     ]
    },
    {
     "data": {
      "text/plain": [
       "'drdarshaningleaimltrainer'"
      ]
     },
     "execution_count": 34,
     "metadata": {},
     "output_type": "execute_result"
    }
   ],
   "source": [
    "#Write a Python's user-defined function that removes all the additional characters from the string and\n",
    "#convert it finally to lower case using built-in lower(). eg: If the string is \"Dr. Darshan Ingle @AIML Trainer\",\n",
    "#then the output be \"drdarshaningleaimltrainer\".\n",
    "test =input(\"Enter the string: \")\n",
    "def abc(test):\n",
    "    bad_chars = [';', ':', '!', \"*\",'@',' ','.']\n",
    "    \n",
    "    for i in bad_chars : \n",
    "        test = test.replace(i, '')\n",
    "    print(test)\n",
    "    y=str.lower(test)\n",
    "    return y\n",
    "\n",
    "abc(y)\n",
    "\n",
    "\n",
    "    \n"
   ]
  }
 ],
 "metadata": {
  "kernelspec": {
   "display_name": "Python 3",
   "language": "python",
   "name": "python3"
  },
  "language_info": {
   "codemirror_mode": {
    "name": "ipython",
    "version": 3
   },
   "file_extension": ".py",
   "mimetype": "text/x-python",
   "name": "python",
   "nbconvert_exporter": "python",
   "pygments_lexer": "ipython3",
   "version": "3.8.3"
  }
 },
 "nbformat": 4,
 "nbformat_minor": 4
}
