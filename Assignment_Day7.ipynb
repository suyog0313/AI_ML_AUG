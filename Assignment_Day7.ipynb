{
 "cells": [
  {
   "cell_type": "code",
   "execution_count": 72,
   "metadata": {},
   "outputs": [
    {
     "name": "stdout",
     "output_type": "stream",
     "text": [
      "I am In Mumbai\n",
      "\n",
      "I like to learn python\n"
     ]
    }
   ],
   "source": [
    "# Write a program to copy the contents of one file to another using a for loop. (Don’t use built-in copy\n",
    "# function)\n",
    "with open(\"ABC.txt\") as f:\n",
    "    with open(\"out.txt\", \"w\") as f1:\n",
    "        for line in f:\n",
    "            str(f1.write(line))\n",
    "            print(line)\n",
    "            \n",
    "            "
   ]
  },
  {
   "cell_type": "code",
   "execution_count": 6,
   "metadata": {},
   "outputs": [
    {
     "name": "stdout",
     "output_type": "stream",
     "text": [
      "The original dictionary is : {'IIT': 1, 'IIM': 2, 'NIT': 3, 'PICT': 4, 'BITS': 5}\n",
      "Keys with minimum values are : ['IIT']\n",
      "Keys with maximum values are : ['BITS']\n"
     ]
    }
   ],
   "source": [
    "# Write a Python program to find maximum and minimum values in the dictionary. Do not use built-in min\n",
    "# and max functions.\n",
    "\n",
    "test_dict = {'IIT' : 1, 'IIM' : 2, 'NIT' : 3,'PICT' :4,'BITS' :5 } \n",
    "  \n",
    " \n",
    "print(\"The original dictionary is : \" + str(test_dict)) \n",
    "  \n",
    " \n",
    "res =  [key for key in test_dict if \n",
    "        all(test_dict[temp] >= test_dict[key] \n",
    "        for temp in test_dict)] \n",
    "  \n",
    "\n",
    "print(\"Keys with minimum values are : \" + str(res)) \n",
    "\n",
    "res1 =  [value for value in test_dict if \n",
    "        all(test_dict[temp] <= test_dict[value] \n",
    "        for temp in test_dict)] \n",
    "  \n",
    " \n",
    "print(\"Keys with maximum values are : \" + str(res1)) \n"
   ]
  }
 ],
 "metadata": {
  "kernelspec": {
   "display_name": "Python 3",
   "language": "python",
   "name": "python3"
  },
  "language_info": {
   "codemirror_mode": {
    "name": "ipython",
    "version": 3
   },
   "file_extension": ".py",
   "mimetype": "text/x-python",
   "name": "python",
   "nbconvert_exporter": "python",
   "pygments_lexer": "ipython3",
   "version": "3.8.3"
  }
 },
 "nbformat": 4,
 "nbformat_minor": 4
}
